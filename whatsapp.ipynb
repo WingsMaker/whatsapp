{
 "cells": [
  {
   "cell_type": "markdown",
   "metadata": {},
   "source": [
    "### how to send message to whatsapp in python"
   ]
  },
  {
   "cell_type": "markdown",
   "metadata": {},
   "source": [
    "[1]\n",
    "download and install chromedrive as found in below source code.\n",
    "you get from our google drive (..\\MDT\\KH\\ ) at\n",
    "https://drive.google.com/drive/folders/1yuartmJNxfpEQXuPDWEZPUj-K-v7zRaj\n",
    "\n",
    "Place this chromedriver.exe (windows user) at the same location as your source code.\n",
    "\n",
    "[2]\n",
    "install below python module :\n",
    "   pip install selenium\n",
    "( some use conda, pip3 or python -m pip depending on actual ground )\n",
    "\n",
    "[3]\n",
    "Get your whatsapp ready to scan QRcode. Pickup a test group/user to send msg.\n",
    "Let's use our chatgroup Sambaash"
   ]
  },
  {
   "cell_type": "code",
   "execution_count": 2,
   "metadata": {},
   "outputs": [
    {
     "name": "stdout",
     "output_type": "stream",
     "text": [
      "Requirement already satisfied: selenium in c:\\users\\lkh\\anaconda3\\lib\\site-packages (3.141.0)\n",
      "Requirement already satisfied: urllib3 in c:\\users\\lkh\\anaconda3\\lib\\site-packages (from selenium) (1.24.2)\n",
      "Note: you may need to restart the kernel to use updated packages.\n"
     ]
    }
   ],
   "source": [
    "pip install selenium"
   ]
  },
  {
   "cell_type": "code",
   "execution_count": 1,
   "metadata": {},
   "outputs": [],
   "source": [
    "from selenium import webdriver \n",
    "from selenium.webdriver.support.ui import WebDriverWait \n",
    "from selenium.webdriver.support import expected_conditions as EC \n",
    "from selenium.webdriver.common.keys import Keys \n",
    "from selenium.webdriver.common.by import By \n",
    "  \n",
    "driver = webdriver.Chrome('./chromedriver.exe') \n",
    "  \n",
    "driver.get(\"https://web.whatsapp.com/\") \n",
    "wait = WebDriverWait(driver, 60) \n",
    "\n",
    "target = 'Sambaash'\n",
    "  \n",
    "# Replace the below string with your own message \n",
    "string = \"hello my friends!!\"\n",
    "  \n",
    "inp_xpath = '//*[@id=\"main\"]/footer/div[1]/div[2]/div/div[2]'\n",
    "input_box = wait.until(EC.presence_of_element_located((By.XPATH, inp_xpath))) \n",
    "input_box.send_keys(string + Keys.ENTER)"
   ]
  },
  {
   "cell_type": "code",
   "execution_count": 2,
   "metadata": {},
   "outputs": [],
   "source": [
    "string = \"good afternoon guys, this msg was sent by KH via python\"\n",
    "  \n",
    "inp_xpath = '//*[@id=\"main\"]/footer/div[1]/div[2]/div/div[2]'\n",
    "input_box = wait.until(EC.presence_of_element_located((By.XPATH, inp_xpath))) \n",
    "input_box.send_keys(string + Keys.ENTER)"
   ]
  },
  {
   "cell_type": "raw",
   "metadata": {},
   "source": [
    "What you can with this ? Build auto alerts, telegram-to-whatsapp, etc"
   ]
  },
  {
   "cell_type": "markdown",
   "metadata": {},
   "source": [
    "### Another telegram api"
   ]
  },
  {
   "cell_type": "raw",
   "metadata": {},
   "source": [
    "import telebot\n",
    "\n",
    "bot = telebot.TeleBot(\"1042610944:AAGme_h2ztEG50jwbW8_cVEi0mgXjkXijd8\")\n",
    "\n",
    "@bot.message_handler(commands=['start'])\n",
    "def send_welcome(message):\n",
    "    txt = \"you pressed start\"\n",
    "    bot.send_message(message.chat.id, txt)\n",
    "\n",
    "@bot.message_handler(commands=['stop'])\n",
    "def send_goodbye(message):\n",
    "    txt = \"you pressed stop\"\n",
    "    bot.send_message(message.chat.id, txt)\n",
    "    \n",
    "@bot.message_handler(func=lambda message: True)\n",
    "def handle_messages(message):\n",
    "    resp = message.text\n",
    "    txt = 'you said : ' + resp\n",
    "    bot.send_message(message.chat.id, txt)\n",
    "\n",
    "bot.polling() "
   ]
  },
  {
   "cell_type": "code",
   "execution_count": null,
   "metadata": {},
   "outputs": [],
   "source": []
  }
 ],
 "metadata": {
  "kernelspec": {
   "display_name": "Python 3",
   "language": "python",
   "name": "python3"
  },
  "language_info": {
   "codemirror_mode": {
    "name": "ipython",
    "version": 3
   },
   "file_extension": ".py",
   "mimetype": "text/x-python",
   "name": "python",
   "nbconvert_exporter": "python",
   "pygments_lexer": "ipython3",
   "version": "3.7.4"
  }
 },
 "nbformat": 4,
 "nbformat_minor": 2
}
